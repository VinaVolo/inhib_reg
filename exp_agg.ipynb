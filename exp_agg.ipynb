{
 "cells": [
  {
   "cell_type": "code",
   "execution_count": 36,
   "metadata": {},
   "outputs": [],
   "source": [
    "import os\n",
    "import pandas as pd\n",
    "import numpy as np"
   ]
  },
  {
   "cell_type": "code",
   "execution_count": 37,
   "metadata": {},
   "outputs": [],
   "source": [
    "current, vol, conc, inh = [], [], [], []\n",
    "\n",
    "for fold in os.listdir(rf'.\\experimental_data'):\n",
    "    \n",
    "    num_ppm = []\n",
    "    \n",
    "    for ppm in os.listdir(rf'.\\experimental_data\\{fold}'):\n",
    "        if len(ppm) < 6:\n",
    "            num_ppm.append(int(ppm[:2]))\n",
    "        else:\n",
    "            num_ppm.append(int(ppm[:3]))\n",
    "    \n",
    "    num_ppm.sort()\n",
    "            \n",
    "    for num in num_ppm:\n",
    "\n",
    "        for filename in os.listdir(rf'.\\experimental_data\\{fold}\\{num} ppm'):\n",
    "            with open(rf'.\\experimental_data\\{fold}\\{num} ppm\\{filename}', encoding='latin-1') as f:\n",
    "                data = f.readlines()\n",
    "            current_temp, volt_temp = [], []\n",
    "\n",
    "            for line in data[25:]:\n",
    "                values = line.strip().split()\n",
    "                if len(values) == 4:\n",
    "                    current_temp.append(float(values[3]))\n",
    "                    volt_temp.append(float(values[2]))\n",
    "                elif values[0] == 'de':\n",
    "                    current.append(current_temp)\n",
    "                    vol.append(volt_temp)\n",
    "                    current_temp, volt_temp = [], []\n",
    "                    conc.append(int(num))\n",
    "                    inh.append(fold)\n",
    "                else:\n",
    "                    continue"
   ]
  },
  {
   "cell_type": "code",
   "execution_count": null,
   "metadata": {},
   "outputs": [],
   "source": [
    "cor = pd.DataFrame(current)\n",
    "\n",
    "val = pd.DataFrame(vol)\n",
    "\n",
    "cor['ppm'] = conc\n",
    "cor['Inhibitor'] = inh\n",
    "\n",
    "val['ppm'] = conc\n",
    "val['Inhibitor'] = inh"
   ]
  },
  {
   "cell_type": "code",
   "execution_count": null,
   "metadata": {},
   "outputs": [],
   "source": [
    "cor.to_csv('exp_data_cur.csv')\n",
    "val.to_csv('exp_data_vol.csv')"
   ]
  },
  {
   "cell_type": "code",
   "execution_count": null,
   "metadata": {},
   "outputs": [],
   "source": []
  }
 ],
 "metadata": {
  "kernelspec": {
   "display_name": "da_env",
   "language": "python",
   "name": "python3"
  },
  "language_info": {
   "codemirror_mode": {
    "name": "ipython",
    "version": 3
   },
   "file_extension": ".py",
   "mimetype": "text/x-python",
   "name": "python",
   "nbconvert_exporter": "python",
   "pygments_lexer": "ipython3",
   "version": "3.11.4"
  }
 },
 "nbformat": 4,
 "nbformat_minor": 2
}
